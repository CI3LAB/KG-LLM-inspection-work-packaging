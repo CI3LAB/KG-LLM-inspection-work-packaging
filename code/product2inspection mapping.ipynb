{
  "cells": [
    {
      "cell_type": "markdown",
      "metadata": {
        "id": "ISHXUkYn6CRs"
      },
      "source": [
        "# Environment "
      ]
    },
    {
      "cell_type": "code",
      "execution_count": 2,
      "metadata": {
        "id": "I_gdaisB6J5N"
      },
      "outputs": [],
      "source": [
        "from openai import OpenAI\n",
        "import numpy as np\n",
        "import matplotlib.pyplot as plt\n",
        "import seaborn as sns"
      ]
    },
    {
      "cell_type": "code",
      "execution_count": 5,
      "metadata": {},
      "outputs": [],
      "source": [
        "API_SECRET_KEY = \"Your key\""
      ]
    },
    {
      "cell_type": "markdown",
      "metadata": {
        "id": "qCbKt1EicfVT"
      },
      "source": [
        "# Data\n",
        "\n",
        "The first step is to get your data either from the KG or from the project. If you need to get some data as context or few-shot examples from the KG, langchain could seamlessly bridge the KG and the LLM.This part of code is omitted.\n",
        "\n",
        "Since LLMs have context window limit, so control the tokens within, like 4096 tokens, it depends.\n",
        "\n",
        "And may sure the chunk you prepared for mapping contains no isolated products or tasks. I.e., there shouldn't be a product that actually matched no task in the chunk."
      ]
    },
    {
      "cell_type": "code",
      "execution_count": 3,
      "metadata": {
        "id": "72KWDk5IbzmC"
      },
      "outputs": [],
      "source": [
        "sublist2=[('visual inspection for door panel fixing', 'door panel'), ('proper installation check for door panel fixing', 'door panel'), ('gap alignment check for door panel fixing', 'door panel'), ('review sample for installation of hinges', 'hinge'), ('visual inspection for installation of hinges', 'hinge'), ('verify compliance for installation of hinges', 'hinge'), ('review sample for installation of overhead door closer', 'overhead door closer'), ('visual inspection for installation of overhead door closer', 'overhead door closer'), ('verify compliance for installation of overhead door closer', 'overhead door closer'), ('water spray test for door/window', 'timber door'), ('water spray test for door/window', 'non-frp timber door'), ('water spray test for door/window', 'frp timber door'), ('water spray test for door/window', 'hardwood solid core flush doors'), ('water spray test for door/window', 'aluminium window'), ('electrical continuity test for door/window', 'timber door'), ('electrical continuity test for door/window', 'non-frp timber door'), ('electrical continuity test for door/window', 'frp timber door'), ('electrical continuity test for door/window', 'hardwood solid core flush doors'), ('electrical continuity test for door/window', 'aluminium window'), ('review sample for aluminum extruded section include ironmongery', 'hinge'), ('review sample for aluminum extruded section include ironmongery', 'handle'), ('review sample for aluminum extruded section include ironmongery', 'latch'), ('review sample for aluminum extruded section include ironmongery', 'door ironmongery'), ('review sample for aluminum extruded section include ironmongery', 'locks'), ('review sample for aluminum extruded section include ironmongery', 'door slides'), ('review sample for aluminum extruded section include ironmongery', 'drawer slides'), ('brand name check for aluminum extruded section include ironmongery', 'hinge'), ('brand name check for aluminum extruded section include ironmongery', 'handle'), ('brand name check for aluminum extruded section include ironmongery', 'latch'), ('brand name check for aluminum extruded section include ironmongery', 'door ironmongery'), ('brand name check for aluminum extruded section include ironmongery', 'locks'), ('brand name check for aluminum extruded section include ironmongery', 'door slides'), ('brand name check for aluminum extruded section include ironmongery', 'drawer slides'), ('visual inspection for  aluminum extruded section include ironmongery', 'hinge'), ('visual inspection for  aluminum extruded section include ironmongery', 'handle'), ('visual inspection for  aluminum extruded section include ironmongery', 'latch'), ('visual inspection for  aluminum extruded section include ironmongery', 'door ironmongery'), ('visual inspection for  aluminum extruded section include ironmongery', 'locks'), ('visual inspection for  aluminum extruded section include ironmongery', 'door slides'), ('visual inspection for  aluminum extruded section include ironmongery', 'drawer slides'), ('measure dimension  for aluminum extruded section include ironmongery', 'hinge'), ('measure dimension  for aluminum extruded section include ironmongery', 'handle'), ('measure dimension  for aluminum extruded section include ironmongery', 'latch'), ('measure dimension  for aluminum extruded section include ironmongery', 'door ironmongery'), ('measure dimension  for aluminum extruded section include ironmongery', 'locks'), ('measure dimension  for aluminum extruded section include ironmongery', 'door slides'), ('measure dimension  for aluminum extruded section include ironmongery', 'drawer slides'), ('2mm thickness check for aluminum extruded section include ironmongery', 'hinge'), ('2mm thickness check for aluminum extruded section include ironmongery', 'handle'), ('2mm thickness check for aluminum extruded section include ironmongery', 'latch'), ('2mm thickness check for aluminum extruded section include ironmongery', 'door ironmongery'), ('2mm thickness check for aluminum extruded section include ironmongery', 'locks'), ('2mm thickness check for aluminum extruded section include ironmongery', 'door slides'), ('2mm thickness check for aluminum extruded section include ironmongery', 'drawer slides'), ('review sample for glass', 'glass panel')]"
      ]
    },
    {
      "cell_type": "code",
      "execution_count": null,
      "metadata": {
        "colab": {
          "base_uri": "https://localhost:8080/"
        },
        "id": "65Du7XPigOz-",
        "outputId": "1187e2b0-282a-4c19-c46e-66d67311446e"
      },
      "outputs": [],
      "source": [
        "print(\"sublist2: \",len(sublist2))"
      ]
    },
    {
      "cell_type": "code",
      "execution_count": 5,
      "metadata": {
        "id": "XgDKtShbhPZ1"
      },
      "outputs": [],
      "source": [
        "def p_iT_list(tuples_list):\n",
        "    first_elements = [item[0] for item in tuples_list]\n",
        "    second_elements = [item[1] for item in tuples_list]\n",
        "    first_elements=list(set(first_elements))\n",
        "    second_elements=list(set(second_elements))\n",
        "    return first_elements,second_elements"
      ]
    },
    {
      "cell_type": "code",
      "execution_count": 6,
      "metadata": {
        "id": "5UvMT8YbhQeB"
      },
      "outputs": [],
      "source": [
        "iT_test_2,p_test_2=p_iT_list(sublist2)"
      ]
    },
    {
      "cell_type": "code",
      "execution_count": 7,
      "metadata": {
        "colab": {
          "base_uri": "https://localhost:8080/"
        },
        "id": "rJlAF-5XjUib",
        "outputId": "70aeeb6a-55c7-4536-98a8-f4579786b5d7"
      },
      "outputs": [
        {
          "name": "stdout",
          "output_type": "stream",
          "text": [
            "['measure dimension  for aluminum extruded section include ironmongery', 'water spray test for door/window', '2mm thickness check for aluminum extruded section include ironmongery', 'review sample for aluminum extruded section include ironmongery', 'visual inspection for door panel fixing', 'review sample for glass', 'visual inspection for installation of hinges', 'gap alignment check for door panel fixing', 'review sample for installation of hinges', 'verify compliance for installation of hinges', 'review sample for installation of overhead door closer', 'proper installation check for door panel fixing', 'visual inspection for installation of overhead door closer', 'verify compliance for installation of overhead door closer', 'electrical continuity test for door/window', 'brand name check for aluminum extruded section include ironmongery', 'visual inspection for  aluminum extruded section include ironmongery']\n",
            "['glass panel', 'door ironmongery', 'hinge', 'hardwood solid core flush doors', 'overhead door closer', 'latch', 'door slides', 'door panel', 'frp timber door', 'handle', 'timber door', 'drawer slides', 'locks', 'non-frp timber door', 'aluminium window']\n"
          ]
        }
      ],
      "source": [
        "print(iT_test_2)\n",
        "print(p_test_2)"
      ]
    },
    {
      "cell_type": "markdown",
      "metadata": {
        "id": "Ov20RyI1jo5q"
      },
      "source": [
        "# prompts"
      ]
    },
    {
      "cell_type": "code",
      "execution_count": null,
      "metadata": {
        "id": "fNdFe_sLpG9O"
      },
      "outputs": [],
      "source": [
        "fprompt2=f\"\"\"\n",
        "You're a quality inspector in a manufacturing factory for Modular integrated Construction projects in Hong Kong. Now You can do precise mappings between a list of products and their respective inspection tasks.\n",
        "\n",
        "Notably:\n",
        "1. A single product may require multiple inspection tasks.\n",
        "2. Conversely, a single inspection task could be relevant to several products.\n",
        "\n",
        "To achieve accurate mappings, follow these structured steps:\n",
        "1. Examine Inspection Tasks: Begin by reviewing each inspection task individually from the provided list.\n",
        "2. Identify Related Products: For every inspection task, cross-reference the product list to find all applicable products. Do not hesitate to create multiple mappings for a single task. There is no upper limit to the number of mappings you can make. The goal is to ensure that all related products are thoroughly mapped to their respective inspection tasks.\n",
        "3. Ensure Comprehensive Coverage: After mapping each inspection task to its related products, conduct a final review of all mappings. This step is to confirm that no product has been overlooked and each one is accounted for in the mappings.\n",
        "\n",
        "Guidelines:\n",
        "1. Use Provided Lists Exclusively: Your mappings should solely utilize the items from the provided lists below. Refrain from incorporating any external elements.\n",
        "2. Output Format: Present your final mappings as a Python list of tuples in the format (\"inspection task\", \"product\"), ensuring that the structure is maintained throughout.\n",
        "\n",
        "Sample mappings for your reference:\n",
        "[('material certificate for pipework and fittings', 'copper pipes'),\n",
        " ('dimension check for window type ac installation', 'window type ac'),\n",
        " ('dimension check for window type ac installation', 'air filters'),\n",
        " ('quantity check for window type ac installation', 'activated carbon filter'),\n",
        " ('visual inspection for installation of lighting', 'lighting fittings'),\n",
        " ('sample for seal, seal accessories', 'structual sealant'),\n",
        " ('sample for seal, seal accessories', 'weather sealants'),\n",
        " ('colour check for seal, seal accessories', 'tapes')]\n",
        "\n",
        "Provided Lists:\n",
        "Product List:\n",
        "{p_test_2}\n",
        "Inspection Task List:\n",
        "{iT_test_2}\n",
        "\n",
        "Desired Output Format: [ ('inspection task1', 'product1'), ... ('inspection taskN', 'productN') ]\n",
        "\"\"\""
      ]
    },
    {
      "cell_type": "code",
      "execution_count": null,
      "metadata": {
        "colab": {
          "base_uri": "https://localhost:8080/"
        },
        "collapsed": true,
        "id": "0oqcD5oCm0mB",
        "outputId": "734a5932-ed0a-44ef-c093-e4ca2ad91988"
      },
      "outputs": [
        {
          "name": "stdout",
          "output_type": "stream",
          "text": [
            "\n",
            "You're a quality inspector in a manufacturing factory for Modular integrated Construction projects in Hong Kong. Now You can do precise mappings between a list of products and their respective inspection tasks.\n",
            "\n",
            "Notably:\n",
            "1. A single product may require multiple inspection tasks.\n",
            "2. Conversely, a single inspection task could be relevant to several products.\n",
            "\n",
            "To achieve accurate mappings, follow these structured steps:\n",
            "1. Examine Inspection Tasks: Begin by reviewing each inspection task individually from the provided list.\n",
            "2. Identify Related Products: For every inspection task, cross-reference the product list to find all applicable products. Do not hesitate to create multiple mappings for a single task. There is no upper limit to the number of mappings you can make. The goal is to ensure that all related products are thoroughly mapped to their respective inspection tasks.\n",
            "3. Ensure Comprehensive Coverage: After mapping each inspection task to its related products, conduct a final review of all mappings. This step is to confirm that no product has been overlooked and each one is accounted for in the mappings.\n",
            "\n",
            "Guidelines:\n",
            "1. Use Provided Lists Exclusively: Your mappings should solely utilize the items from the provided lists below. Refrain from incorporating any external elements.\n",
            "2. Output Format: Present your final mappings as a Python list of tuples in the format (\"inspection task\", \"product\"), ensuring that the structure is maintained throughout.\n",
            "\n",
            "Sample mappings for your reference:\n",
            "[('material certificate for pipework and fittings', 'copper pipes'),\n",
            " ('dimension check for window type ac installation', 'window type ac'),\n",
            " ('dimension check for window type ac installation', 'air filters'),\n",
            " ('quantity check for window type ac installation', 'activated carbon filter'),\n",
            " ('visual inspection for installation of lighting', 'lighting fittings'),\n",
            " ('sample for seal, seal accessories', 'structual sealant'),\n",
            " ('sample for seal, seal accessories', 'weather sealants'),\n",
            " ('colour check for seal, seal accessories', 'tapes')]\n",
            "\n",
            "Provided Lists:\n",
            "Product List:\n",
            "['frp timber door', 'door panel', 'non-frp timber door', 'hardwood solid core flush doors', 'glass panel', 'latch', 'locks', 'handle', 'aluminium window', 'timber door', 'drawer slides', 'door ironmongery', 'door slides', 'overhead door closer', 'hinge']\n",
            "Inspection Task List:\n",
            "['electrical continuity test', 'proper installation check', 'verify compliance', 'brand name check', '2mm thickness check', 'review sample', 'visual inspection', 'measure dimension', 'water spray test', 'gap alignment check']\n",
            "\n",
            "Desired Output Format: [ ('inspection task1', 'product1'), ... ('inspection taskN', 'productN') ]\n",
            "\n"
          ]
        }
      ],
      "source": [
        "print(fprompt2)"
      ]
    },
    {
      "cell_type": "markdown",
      "metadata": {
        "id": "cNobzvwQIKAn"
      },
      "source": [
        "# functions for data analysis and figures"
      ]
    },
    {
      "cell_type": "code",
      "execution_count": 8,
      "metadata": {
        "id": "suE5V-x5Kc7R"
      },
      "outputs": [],
      "source": [
        "def tasks_review(LLM_mappings,test_list):\n",
        "    tasks_from_llm = set(iT for iT, _ in LLM_mappings)\n",
        "    tasks_from_ground_truth = set(iT for iT, _ in test_list)\n",
        "\n",
        "    all_tasks = tasks_from_llm.union(tasks_from_ground_truth)\n",
        "    \n",
        "    return all_tasks"
      ]
    },
    {
      "cell_type": "code",
      "execution_count": 9,
      "metadata": {
        "id": "_vRMYcQXKLH-"
      },
      "outputs": [],
      "source": [
        "def calculate_metrics(ground_truth, predicted_mapping,all_iT):\n",
        "    TP_total = {}\n",
        "    FP_total = {}\n",
        "    FN_total = {}\n",
        "    TN_total = {}\n",
        "\n",
        "    gt_dict = {}\n",
        "    pred_dict = {}\n",
        "\n",
        "    for category, instance in ground_truth:\n",
        "        gt_dict.setdefault(category, set()).add(instance)\n",
        "\n",
        "    for category, instance in predicted_mapping:\n",
        "        pred_dict.setdefault(category, set()).add(instance)\n",
        "\n",
        "    for category in all_iT:\n",
        "        gt_items = gt_dict.get(category, set())\n",
        "        pred_items = pred_dict.get(category, set())\n",
        "\n",
        "        TP = gt_items.intersection(pred_items)\n",
        "        FP = pred_items - gt_items\n",
        "        FN = gt_items - pred_items\n",
        "\n",
        "        TP_total[category] = list(TP)\n",
        "        FP_total[category] = list(FP)\n",
        "        FN_total[category] = list(FN)\n",
        "\n",
        "        TN = set()\n",
        "        for other_category in all_iT - {category}:\n",
        "            other_gt_items = gt_dict.get(other_category, set())\n",
        "            TN = TN.union(other_gt_items - pred_items)\n",
        "        TN_total[category] = list(TN)\n",
        "\n",
        "    return TP_total, FP_total, FN_total, TN_total"
      ]
    },
    {
      "cell_type": "code",
      "execution_count": 11,
      "metadata": {
        "id": "s3mu5ExXINHg"
      },
      "outputs": [],
      "source": [
        "def calculate_macro_average(TP_total, FP_total, FN_total, TN_total,all_tasks):\n",
        "    macro_precision = macro_recall = macro_f1 = macro_fpr= 0\n",
        "    n_categories = len(all_tasks)\n",
        "\n",
        "    for category in TP_total:\n",
        "        TP = len(TP_total[category])\n",
        "        FP = len(FP_total[category])\n",
        "        FN = len(FN_total[category])\n",
        "        TN = len(TN_total[category])\n",
        "\n",
        "        precision = TP / (TP + FP) if (TP + FP) > 0 else 0\n",
        "        recall = TP / (TP + FN) if (TP + FN) > 0 else 0\n",
        "        f1 = 2 * (precision * recall) / (precision + recall) if (precision + recall) > 0 else 0\n",
        "        fpr = FP / (FP + TN) if (FP + TN) > 0 else 0\n",
        "\n",
        "        macro_precision += precision\n",
        "        macro_recall += recall\n",
        "        macro_f1 += f1\n",
        "        macro_fpr += fpr\n",
        "\n",
        "    macro_precision /= n_categories\n",
        "    macro_recall /= n_categories\n",
        "    macro_f1 /= n_categories\n",
        "    macro_fpr /= n_categories\n",
        "\n",
        "    return macro_precision, macro_recall, macro_f1, macro_fpr"
      ]
    },
    {
      "cell_type": "code",
      "execution_count": 13,
      "metadata": {
        "id": "YaWnHXRwAxq_"
      },
      "outputs": [],
      "source": [
        "def build_confusion_matrix(ground_truth, predicted_mapping):\n",
        "    all_categories = set([cat for cat, _ in ground_truth + predicted_mapping])\n",
        "\n",
        "    confusion_matrix = np.zeros((len(all_categories), len(all_categories)))\n",
        "    category_to_index = {category: i for i, category in enumerate(sorted(all_categories))}\n",
        "    index_to_category = {i: category for category, i in category_to_index.items()}  \n",
        "    print(index_to_category)\n",
        "\n",
        "    gt_dict = {}\n",
        "    for cat, inst in ground_truth:\n",
        "        gt_dict.setdefault(inst, set()).add(cat)\n",
        "\n",
        "    pred_dict = {}\n",
        "    for cat, inst in predicted_mapping:\n",
        "        pred_dict.setdefault(inst, set()).add(cat)\n",
        "\n",
        "    for inst, gt_cats in gt_dict.items():\n",
        "        pred_cats = pred_dict.get(inst, set())\n",
        "\n",
        "        for cat in gt_cats & pred_cats:\n",
        "            idx = category_to_index[cat]\n",
        "            confusion_matrix[idx, idx] += 1\n",
        "\n",
        "        for cat in pred_cats - gt_cats:\n",
        "            pred_idx = category_to_index[cat]\n",
        "            for true_cat in gt_cats:  \n",
        "                true_idx = category_to_index[true_cat]\n",
        "                confusion_matrix[true_idx, pred_idx] += 1  \n",
        "\n",
        "    return confusion_matrix, sorted(all_categories), index_to_category\n",
        "\n",
        "def plot_confusion_matrix(confusion_matrix, categories, index_to_category):\n",
        "    plt.figure(figsize=(15, 15))  \n",
        "    labels = [str(index_to_category[i]) for i in range(len(categories))]\n",
        "    numbered_labels = [str(i + 1) for i in range(len(categories))]  \n",
        "\n",
        "    ax = sns.heatmap(confusion_matrix, annot=True, fmt='g', cmap='Blues', xticklabels=numbered_labels, yticklabels=numbered_labels)\n",
        "    plt.xlabel('Predicted Categories')\n",
        "    plt.ylabel('True Categories')\n",
        "    plt.title('Confusion Matrix')\n",
        "\n",
        "    plt.show()"
      ]
    },
    {
      "cell_type": "code",
      "execution_count": 14,
      "metadata": {
        "id": "mm8XT6H8AwuJ"
      },
      "outputs": [],
      "source": [
        "def plot_confusion_matrix_macro(TP_total, FP_total, FN_total, TN_total):\n",
        "    total_TP = sum(len(i) for i in TP_total.values())\n",
        "    total_FP = sum(len(i) for i in FP_total.values())\n",
        "    total_FN = sum(len(i) for i in FN_total.values())\n",
        "    total_TN = sum(len(i) for i in TN_total.values())\n",
        "\n",
        "    confusion_matrix = np.array([[total_TP, total_FP],\n",
        "                                 [total_FN, total_TN]])\n",
        "\n",
        "    fig, ax = plt.subplots()\n",
        "    im = ax.imshow(confusion_matrix, interpolation='nearest', cmap=plt.cm.Blues)\n",
        "    ax.figure.colorbar(im, ax=ax)\n",
        "    ax.set(xticks=np.arange(confusion_matrix.shape[1]),\n",
        "           yticks=np.arange(confusion_matrix.shape[0]),\n",
        "           xticklabels=['Predicted Positive', 'Predicted Negative'],\n",
        "           yticklabels=['Actual Positive', 'Actual Negative'],\n",
        "           title='Total Confusion Matrix',\n",
        "           ylabel='True label',\n",
        "           xlabel='Predicted label')\n",
        "\n",
        "    fmt = 'd'  \n",
        "    thresh = confusion_matrix.max() / 2.\n",
        "    for i in range(confusion_matrix.shape[0]):\n",
        "        for j in range(confusion_matrix.shape[1]):\n",
        "            ax.text(j, i, format(confusion_matrix[i, j], fmt),\n",
        "                    ha=\"center\", va=\"center\",\n",
        "                    color=\"white\" if confusion_matrix[i, j] > thresh else \"black\")\n",
        "    fig.tight_layout()\n",
        "    plt.show()"
      ]
    },
    {
      "cell_type": "markdown",
      "metadata": {
        "id": "Olxezq0VmIQ2"
      },
      "source": [
        "# Mapping"
      ]
    },
    {
      "cell_type": "code",
      "execution_count": 207,
      "metadata": {
        "id": "s4p--I5u6xkn"
      },
      "outputs": [],
      "source": [
        "client = OpenAI(api_key=API_SECRET_KEY)"
      ]
    },
    {
      "cell_type": "markdown",
      "metadata": {
        "id": "f0fiLmkHFLHr"
      },
      "source": [
        "## 2"
      ]
    },
    {
      "cell_type": "code",
      "execution_count": 208,
      "metadata": {
        "id": "XJ8hPKJE7Ad_"
      },
      "outputs": [],
      "source": [
        "chat_completion2 = client.chat.completions.create(\n",
        "    messages=[\n",
        "        {\n",
        "            \"role\": \"user\",\n",
        "            \"content\": fprompt2,\n",
        "        }\n",
        "    ],\n",
        "    model=\"claude-3-5-sonnet-20240620\", \n",
        "    temperature=0,\n",
        "    top_p=0,\n",
        "    max_tokens=4096\n",
        ")"
      ]
    },
    {
      "cell_type": "code",
      "execution_count": 209,
      "metadata": {
        "colab": {
          "base_uri": "https://localhost:8080/"
        },
        "id": "HUO7fQXyBhUa",
        "outputId": "ca624fbb-0f00-4814-f96a-a64d455602ac"
      },
      "outputs": [
        {
          "name": "stdout",
          "output_type": "stream",
          "text": [
            "Based on the provided lists and guidelines, here are the mappings between inspection tasks and products:\n",
            "\n",
            "[\n",
            "    ('brand name check for aluminum extruded section include ironmongery', 'door ironmongery'),\n",
            "    ('brand name check for aluminum extruded section include ironmongery', 'handle'),\n",
            "    ('brand name check for aluminum extruded section include ironmongery', 'locks'),\n",
            "    ('brand name check for aluminum extruded section include ironmongery', 'aluminium window'),\n",
            "    ('brand name check for aluminum extruded section include ironmongery', 'drawer slides'),\n",
            "    ('brand name check for aluminum extruded section include ironmongery', 'latch'),\n",
            "    ('brand name check for aluminum extruded section include ironmongery', 'hinge'),\n",
            "    ('brand name check for aluminum extruded section include ironmongery', 'door slides'),\n",
            "\n",
            "    ('visual inspection for door panel fixing', 'frp timber door'),\n",
            "    ('visual inspection for door panel fixing', 'hardwood solid core flush doors'),\n",
            "    ('visual inspection for door panel fixing', 'timber door'),\n",
            "    ('visual inspection for door panel fixing', 'door panel'),\n",
            "    ('visual inspection for door panel fixing', 'non-frp timber door'),\n",
            "\n",
            "    ('proper installation check for door panel fixing', 'frp timber door'),\n",
            "    ('proper installation check for door panel fixing', 'hardwood solid core flush doors'),\n",
            "    ('proper installation check for door panel fixing', 'timber door'),\n",
            "    ('proper installation check for door panel fixing', 'door panel'),\n",
            "    ('proper installation check for door panel fixing', 'non-frp timber door'),\n",
            "\n",
            "    ('verify compliance for installation of hinges', 'hinge'),\n",
            "\n",
            "    ('water spray test for door/window', 'frp timber door'),\n",
            "    ('water spray test for door/window', 'hardwood solid core flush doors'),\n",
            "    ('water spray test for door/window', 'timber door'),\n",
            "    ('water spray test for door/window', 'non-frp timber door'),\n",
            "    ('water spray test for door/window', 'aluminium window'),\n",
            "\n",
            "    ('review sample for aluminum extruded section include ironmongery', 'door ironmongery'),\n",
            "    ('review sample for aluminum extruded section include ironmongery', 'handle'),\n",
            "    ('review sample for aluminum extruded section include ironmongery', 'locks'),\n",
            "    ('review sample for aluminum extruded section include ironmongery', 'aluminium window'),\n",
            "    ('review sample for aluminum extruded section include ironmongery', 'drawer slides'),\n",
            "    ('review sample for aluminum extruded section include ironmongery', 'latch'),\n",
            "    ('review sample for aluminum extruded section include ironmongery', 'hinge'),\n",
            "    ('review sample for aluminum extruded section include ironmongery', 'door slides'),\n",
            "\n",
            "    ('review sample for glass', 'glass panel'),\n",
            "\n",
            "    ('verify compliance for installation of overhead door closer', 'overhead door closer'),\n",
            "\n",
            "    ('gap alignment check for door panel fixing', 'frp timber door'),\n",
            "    ('gap alignment check for door panel fixing', 'hardwood solid core flush doors'),\n",
            "    ('gap alignment check for door panel fixing', 'timber door'),\n",
            "    ('gap alignment check for door panel fixing', 'door panel'),\n",
            "    ('gap alignment check for door panel fixing', 'non-frp timber door'),\n",
            "\n",
            "    ('measure dimension  for aluminum extruded section include ironmongery', 'door ironmongery'),\n",
            "    ('measure dimension  for aluminum extruded section include ironmongery', 'handle'),\n",
            "    ('measure dimension  for aluminum extruded section include ironmongery', 'locks'),\n",
            "    ('measure dimension  for aluminum extruded section include ironmongery', 'aluminium window'),\n",
            "    ('measure dimension  for aluminum extruded section include ironmongery', 'drawer slides'),\n",
            "    ('measure dimension  for aluminum extruded section include ironmongery', 'latch'),\n",
            "    ('measure dimension  for aluminum extruded section include ironmongery', 'hinge'),\n",
            "    ('measure dimension  for aluminum extruded section include ironmongery', 'door slides'),\n",
            "\n",
            "    ('visual inspection for  aluminum extruded section include ironmongery', 'door ironmongery'),\n",
            "    ('visual inspection for  aluminum extruded section include ironmongery', 'handle'),\n",
            "    ('visual inspection for  aluminum extruded section include ironmongery', 'locks'),\n",
            "    ('visual inspection for  aluminum extruded section include ironmongery', 'aluminium window'),\n",
            "    ('visual inspection for  aluminum extruded section include ironmongery', 'drawer slides'),\n",
            "    ('visual inspection for  aluminum extruded section include ironmongery', 'latch'),\n",
            "    ('visual inspection for  aluminum extruded section include ironmongery', 'hinge'),\n",
            "    ('visual inspection for  aluminum extruded section include ironmongery', 'door slides'),\n",
            "\n",
            "    ('review sample for installation of hinges', 'hinge'),\n",
            "\n",
            "    ('2mm thickness check for aluminum extruded section include ironmongery', 'door ironmongery'),\n",
            "    ('2mm thickness check for aluminum extruded section include ironmongery', 'handle'),\n",
            "    ('2mm thickness check for aluminum extruded section include ironmongery', 'locks'),\n",
            "    ('2mm thickness check for aluminum extruded section include ironmongery', 'aluminium window'),\n",
            "    ('2mm thickness check for aluminum extruded section include ironmongery', 'drawer slides'),\n",
            "    ('2mm thickness check for aluminum extruded section include ironmongery', 'latch'),\n",
            "    ('2mm thickness check for aluminum extruded section include ironmongery', 'hinge'),\n",
            "    ('2mm thickness check for aluminum extruded section include ironmongery', 'door slides'),\n",
            "\n",
            "    ('electrical continuity test for door/window', 'frp timber door'),\n",
            "    ('electrical continuity test for door/window', 'hardwood solid core flush doors'),\n",
            "    ('electrical continuity test for door/window', 'timber door'),\n",
            "    ('electrical continuity test for door/window', 'non-frp timber door'),\n",
            "    ('electrical continuity test for door/window', 'aluminium window'),\n",
            "\n",
            "    ('review sample for installation of overhead door closer', 'overhead door closer'),\n",
            "\n",
            "    ('visual inspection for installation of overhead door closer', 'overhead door closer'),\n",
            "\n",
            "    ('visual inspection for installation of hinges', 'hinge')\n",
            "]\n"
          ]
        }
      ],
      "source": [
        "print(chat_completion2.choices[0].message.content)"
      ]
    },
    {
      "cell_type": "code",
      "execution_count": 15,
      "metadata": {
        "colab": {
          "base_uri": "https://localhost:8080/"
        },
        "id": "4vCoXJvoCG7i",
        "outputId": "a0405d77-6081-4351-cad6-74e671a52c0b"
      },
      "outputs": [
        {
          "data": {
            "text/plain": [
              "72"
            ]
          },
          "execution_count": 15,
          "metadata": {},
          "output_type": "execute_result"
        }
      ],
      "source": [
        "# We suggest you copy the output into a variable so that you won't lost the results even when the running time is terminated\n",
        "LLM_mappings2=[\n",
        "    ('brand name check for aluminum extruded section include ironmongery', 'door ironmongery'),\n",
        "    ('brand name check for aluminum extruded section include ironmongery', 'handle'),\n",
        "    ('brand name check for aluminum extruded section include ironmongery', 'locks'),\n",
        "    ('brand name check for aluminum extruded section include ironmongery', 'aluminium window'),\n",
        "    ('brand name check for aluminum extruded section include ironmongery', 'drawer slides'),\n",
        "    ('brand name check for aluminum extruded section include ironmongery', 'latch'),\n",
        "    ('brand name check for aluminum extruded section include ironmongery', 'hinge'),\n",
        "    ('brand name check for aluminum extruded section include ironmongery', 'door slides'),\n",
        "\n",
        "    ('visual inspection for door panel fixing', 'frp timber door'),\n",
        "    ('visual inspection for door panel fixing', 'hardwood solid core flush doors'),\n",
        "    ('visual inspection for door panel fixing', 'timber door'),\n",
        "    ('visual inspection for door panel fixing', 'door panel'),\n",
        "    ('visual inspection for door panel fixing', 'non-frp timber door'),\n",
        "\n",
        "    ('proper installation check for door panel fixing', 'frp timber door'),\n",
        "    ('proper installation check for door panel fixing', 'hardwood solid core flush doors'),\n",
        "    ('proper installation check for door panel fixing', 'timber door'),\n",
        "    ('proper installation check for door panel fixing', 'door panel'),\n",
        "    ('proper installation check for door panel fixing', 'non-frp timber door'),\n",
        "\n",
        "    ('verify compliance for installation of hinges', 'hinge'),\n",
        "\n",
        "    ('water spray test for door/window', 'frp timber door'),\n",
        "    ('water spray test for door/window', 'hardwood solid core flush doors'),\n",
        "    ('water spray test for door/window', 'timber door'),\n",
        "    ('water spray test for door/window', 'non-frp timber door'),\n",
        "    ('water spray test for door/window', 'aluminium window'),\n",
        "\n",
        "    ('review sample for aluminum extruded section include ironmongery', 'door ironmongery'),\n",
        "    ('review sample for aluminum extruded section include ironmongery', 'handle'),\n",
        "    ('review sample for aluminum extruded section include ironmongery', 'locks'),\n",
        "    ('review sample for aluminum extruded section include ironmongery', 'aluminium window'),\n",
        "    ('review sample for aluminum extruded section include ironmongery', 'drawer slides'),\n",
        "    ('review sample for aluminum extruded section include ironmongery', 'latch'),\n",
        "    ('review sample for aluminum extruded section include ironmongery', 'hinge'),\n",
        "    ('review sample for aluminum extruded section include ironmongery', 'door slides'),\n",
        "\n",
        "    ('review sample for glass', 'glass panel'),\n",
        "\n",
        "    ('verify compliance for installation of overhead door closer', 'overhead door closer'),\n",
        "\n",
        "    ('gap alignment check for door panel fixing', 'frp timber door'),\n",
        "    ('gap alignment check for door panel fixing', 'hardwood solid core flush doors'),\n",
        "    ('gap alignment check for door panel fixing', 'timber door'),\n",
        "    ('gap alignment check for door panel fixing', 'door panel'),\n",
        "    ('gap alignment check for door panel fixing', 'non-frp timber door'),\n",
        "\n",
        "    ('measure dimension  for aluminum extruded section include ironmongery', 'door ironmongery'),\n",
        "    ('measure dimension  for aluminum extruded section include ironmongery', 'handle'),\n",
        "    ('measure dimension  for aluminum extruded section include ironmongery', 'locks'),\n",
        "    ('measure dimension  for aluminum extruded section include ironmongery', 'aluminium window'),\n",
        "    ('measure dimension  for aluminum extruded section include ironmongery', 'drawer slides'),\n",
        "    ('measure dimension  for aluminum extruded section include ironmongery', 'latch'),\n",
        "    ('measure dimension  for aluminum extruded section include ironmongery', 'hinge'),\n",
        "    ('measure dimension  for aluminum extruded section include ironmongery', 'door slides'),\n",
        "\n",
        "    ('visual inspection for  aluminum extruded section include ironmongery', 'door ironmongery'),\n",
        "    ('visual inspection for  aluminum extruded section include ironmongery', 'handle'),\n",
        "    ('visual inspection for  aluminum extruded section include ironmongery', 'locks'),\n",
        "    ('visual inspection for  aluminum extruded section include ironmongery', 'aluminium window'),\n",
        "    ('visual inspection for  aluminum extruded section include ironmongery', 'drawer slides'),\n",
        "    ('visual inspection for  aluminum extruded section include ironmongery', 'latch'),\n",
        "    ('visual inspection for  aluminum extruded section include ironmongery', 'hinge'),\n",
        "    ('visual inspection for  aluminum extruded section include ironmongery', 'door slides'),\n",
        "\n",
        "    ('review sample for installation of hinges', 'hinge'),\n",
        "\n",
        "    ('2mm thickness check for aluminum extruded section include ironmongery', 'door ironmongery'),\n",
        "    ('2mm thickness check for aluminum extruded section include ironmongery', 'handle'),\n",
        "    ('2mm thickness check for aluminum extruded section include ironmongery', 'locks'),\n",
        "    ('2mm thickness check for aluminum extruded section include ironmongery', 'aluminium window'),\n",
        "    ('2mm thickness check for aluminum extruded section include ironmongery', 'drawer slides'),\n",
        "    ('2mm thickness check for aluminum extruded section include ironmongery', 'latch'),\n",
        "    ('2mm thickness check for aluminum extruded section include ironmongery', 'hinge'),\n",
        "    ('2mm thickness check for aluminum extruded section include ironmongery', 'door slides'),\n",
        "\n",
        "    ('electrical continuity test for door/window', 'frp timber door'),\n",
        "    ('electrical continuity test for door/window', 'hardwood solid core flush doors'),\n",
        "    ('electrical continuity test for door/window', 'timber door'),\n",
        "    ('electrical continuity test for door/window', 'non-frp timber door'),\n",
        "    ('electrical continuity test for door/window', 'aluminium window'),\n",
        "\n",
        "    ('review sample for installation of overhead door closer', 'overhead door closer'),\n",
        "\n",
        "    ('visual inspection for installation of overhead door closer', 'overhead door closer'),\n",
        "\n",
        "    ('visual inspection for installation of hinges', 'hinge')\n",
        "]\n",
        "\n",
        "len(LLM_mappings2)"
      ]
    },
    {
      "cell_type": "code",
      "execution_count": null,
      "metadata": {
        "colab": {
          "base_uri": "https://localhost:8080/"
        },
        "id": "i5Mf555bKwBT",
        "outputId": "5627a3cd-0a84-476d-ab99-3314e1ce6b99"
      },
      "outputs": [],
      "source": [
        "all_tasks2=tasks_review(LLM_mappings2,sublist2)\n",
        "\n",
        "TP_total2, FP_total2, FN_total2, TN_total2 = calculate_metrics(sublist2, LLM_mappings2,all_tasks2)\n",
        "\n",
        "macro_precision2, macro_recall2, macro_f12, macro_fpr2 = calculate_macro_average(TP_total2, FP_total2, FN_total2,TN_total2,all_tasks2)\n",
        "\n",
        "print(\"Precision:\", macro_precision2)\n",
        "print(\"Recall:\", macro_recall2)\n",
        "print(\"FPR:\", macro_fpr2)\n",
        "print(\"F1 Score:\", macro_f12,'\\n')\n"
      ]
    },
    {
      "cell_type": "markdown",
      "metadata": {
        "id": "pp4PA7NzYuab"
      },
      "source": [
        "# Overall analysis\n",
        "\n",
        "Due to the context window limit said before, you may have many chunks. Here we got 18 chunks. \n",
        "\n",
        "And the following code can be used to analysis the overall performance of all the chunks."
      ]
    },
    {
      "cell_type": "code",
      "execution_count": null,
      "metadata": {},
      "outputs": [],
      "source": [
        "LLM_mappings_all=LLM_mappings2+LLM_mappings3+LLM_mappings4+LLM_mappings5+LLM_mappings6+LLM_mappings7+LLM_mappings8+LLM_mappings9+LLM_mappings10+LLM_mappings11+LLM_mappings12+LLM_mappings13+LLM_mappings14+LLM_mappings15+LLM_mappings16+LLM_mappings17+LLM_mappings18+LLM_mappings19\n",
        "print(len(LLM_mappings_all))\n",
        "\n",
        "sublist_all=sublist2+sublist3+sublist4+sublist5+sublist6+sublist7+sublist8+sublist9+sublist10+sublist11+sublist12+sublist13+sublist14+sublist15+sublist16+sublist17+sublist18+sublist19\n",
        "print(len(sublist_all))\n",
        "\n",
        "all_tasks=all_tasks2|all_tasks3|all_tasks4|all_tasks5|all_tasks6|all_tasks7|all_tasks8|all_tasks9|all_tasks10|all_tasks11|all_tasks12|all_tasks13|all_tasks14|all_tasks15|all_tasks16|all_tasks17|all_tasks18|all_tasks19"
      ]
    },
    {
      "cell_type": "code",
      "execution_count": 52,
      "metadata": {
        "id": "Qa3mGvmwZAqe"
      },
      "outputs": [],
      "source": [
        "TP_total, FP_total, FN_total, TN_total = calculate_metrics(sublist_all, LLM_mappings_all,all_tasks)"
      ]
    },
    {
      "cell_type": "code",
      "execution_count": null,
      "metadata": {
        "colab": {
          "base_uri": "https://localhost:8080/"
        },
        "id": "jFk1PxlAZC1A",
        "outputId": "52811f64-959f-4d44-83d7-d871532d5b05"
      },
      "outputs": [],
      "source": [
        "all_tasks_all=tasks_review(LLM_mappings_all,sublist_all)\n",
        "\n",
        "TP_total_all, FP_total_all, FN_total_all, TN_total_all = calculate_metrics(sublist_all, LLM_mappings_all,all_tasks_all)\n",
        "\n",
        "macro_precision_all, macro_recall_all, macro_f1_all, macro_fpr_all = calculate_macro_average(TP_total_all, FP_total_all, FN_total_all,TN_total_all,all_tasks_all)\n",
        "\n",
        "print(\"Avg Precision:\", macro_precision_all)\n",
        "print(\"Avg Recall:\", macro_recall_all)\n",
        "print(\"Avg FPR:\", macro_fpr_all)\n",
        "print(\"Avg F1 Score:\", macro_f1_all,'\\n')"
      ]
    },
    {
      "cell_type": "code",
      "execution_count": 54,
      "metadata": {
        "colab": {
          "base_uri": "https://localhost:8080/",
          "height": 487
        },
        "id": "MoeZ0N19BvpH",
        "outputId": "198bf786-b41d-48de-af02-783b75fcbb90"
      },
      "outputs": [
        {
          "data": {
            "image/png": "[encoded data removed]",
            "text/plain": [
              "<Figure size 640x480 with 2 Axes>"
            ]
          },
          "metadata": {},
          "output_type": "display_data"
        }
      ],
      "source": [
        "plot_confusion_matrix_macro(TP_total_all, FP_total_all, FN_total_all, TN_total_all)"
      ]
    }
  ],
  "metadata": {
    "colab": {
      "provenance": []
    },
    "kernelspec": {
      "display_name": "finalYearProject",
      "language": "python",
      "name": "python3"
    },
    "language_info": {
      "codemirror_mode": {
        "name": "ipython",
        "version": 3
      },
      "file_extension": ".py",
      "mimetype": "text/x-python",
      "name": "python",
      "nbconvert_exporter": "python",
      "pygments_lexer": "ipython3",
      "version": "3.8.18"
    }
  },
  "nbformat": 4,
  "nbformat_minor": 0
}
